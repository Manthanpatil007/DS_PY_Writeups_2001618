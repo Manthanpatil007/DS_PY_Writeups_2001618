{
  "nbformat": 4,
  "nbformat_minor": 0,
  "metadata": {
    "colab": {
      "provenance": [],
      "authorship_tag": "ABX9TyPc4mCPuVxV8cMCjcqsF1uG",
      "include_colab_link": true
    },
    "kernelspec": {
      "name": "python3",
      "display_name": "Python 3"
    },
    "language_info": {
      "name": "python"
    }
  },
  "cells": [
    {
      "cell_type": "markdown",
      "metadata": {
        "id": "view-in-github",
        "colab_type": "text"
      },
      "source": [
        "<a href=\"https://colab.research.google.com/github/Manthanpatil007/DS_PY_Writeups_2001618/blob/main/Exp09_notebook_2001618.ipynb\" target=\"_parent\"><img src=\"https://colab.research.google.com/assets/colab-badge.svg\" alt=\"Open In Colab\"/></a>"
      ]
    },
    {
      "cell_type": "code",
      "execution_count": 1,
      "metadata": {
        "colab": {
          "base_uri": "https://localhost:8080/",
          "height": 36
        },
        "id": "Xg3iXyVmUdSN",
        "outputId": "88533c5b-02c4-4ffc-9ace-56cc07e6c2e9"
      },
      "outputs": [
        {
          "output_type": "execute_result",
          "data": {
            "text/plain": [
              "'1.22.4'"
            ],
            "application/vnd.google.colaboratory.intrinsic+json": {
              "type": "string"
            }
          },
          "metadata": {},
          "execution_count": 1
        }
      ],
      "source": [
        "import pandas as pd\n",
        "import numpy\n",
        "import matplotlib.pyplot as plt\n",
        "numpy.__version__"
      ]
    },
    {
      "cell_type": "code",
      "source": [
        "from google.colab import drive\n",
        "drive.mount('/content/My_Drive')"
      ],
      "metadata": {
        "colab": {
          "base_uri": "https://localhost:8080/"
        },
        "id": "dvb7EljgU0LR",
        "outputId": "7881146b-31c4-47a9-aa90-4cd8a110fbf5"
      },
      "execution_count": 2,
      "outputs": [
        {
          "output_type": "stream",
          "name": "stdout",
          "text": [
            "Mounted at /content/My_Drive\n"
          ]
        }
      ]
    },
    {
      "cell_type": "markdown",
      "source": [
        "1. Define your Problem statement and ML technique II(two) you propose to use. "
      ],
      "metadata": {
        "id": "-P3-nnWSU8EH"
      }
    },
    {
      "cell_type": "markdown",
      "source": [
        "Problem Statement:\n",
        "\n",
        "Breast cancer is one of the most common types of cancer that affects women globally. It is important to diagnose breast cancer at an early stage to improve the chances of successful treatment. The Breast Cancer Coimbra Dataset contains clinical and pathological data of patients with breast cancer and provides a valuable resource for developing machine learning models to aid in the early diagnosis of breast cancer.\n",
        "\n",
        "Logistic Regression: Logistic Regression is a supervised learning algorithm used for binary classification problems. It is a simple yet powerful algorithm that is widely used in various fields of data science. In the case of breast cancer diagnosis, logistic regression can be used to predict whether a patient has malignant or benign breast cancer based on the clinical and pathological data available in the Breast Cancer Coimbra Dataset.\n",
        "\n",
        "Decision tree is a non-linear classification model that recursively splits the data based on the most informative features to create a tree-like structure of decision rules. It can handle both binary and multiclass classification problems and is often used when the relationships between the input features and the target variable are non-linear or complex."
      ],
      "metadata": {
        "id": "qQRuTd4oWMUg"
      }
    },
    {
      "cell_type": "markdown",
      "source": [
        "2. Write about working of ML technique II you have proposed  "
      ],
      "metadata": {
        "id": "SAjjVG9GXJN5"
      }
    },
    {
      "cell_type": "markdown",
      "source": [
        "The decision tree is a non-linear classification model that recursively splits the data based on the most informative features to create a tree-like structure of decision rules. The goal is to create a model that can accurately predict the target variable by asking a series of questions about the input features. The following is a brief overview of the working of the decision tree algorithm:\n",
        "\n",
        "The algorithm starts with the entire dataset as the root node of the tree.\n",
        "\n",
        "For each feature in the dataset, the algorithm calculates the information gain (or other impurity measure) that would result from splitting the data on that feature. The feature with the highest information gain is selected as the root node of the next level of the tree.\n",
        "\n",
        "The data is split into subsets based on the values of the selected feature. Each subset is then treated as a separate node and the process is repeated recursively until a stopping criterion is met, such as reaching a minimum number of samples per leaf or a maximum depth of the tree.\n",
        "\n",
        "At each leaf node, the majority class of the samples in that node is used as the predicted class for new instances that fall into that leaf.\n",
        "\n",
        "The resulting decision tree can be used to predict the target variable for new instances by following the decision path from the root node to a leaf node.\n",
        "\n",
        "The decision tree algorithm is popular because it is easy to understand and interpret the resulting model. The tree structure can be visualized and the decision rules can be easily understood by non-technical users. However, the algorithm may suffer from overfitting, where the tree becomes too complex and fits the training data too closely, leading to poor generalization performance on new data. Various techniques, such as pruning and limiting the tree depth, can be used to prevent overfitting and improve the performance of the model."
      ],
      "metadata": {
        "id": "kZsph_YXXLK3"
      }
    },
    {
      "cell_type": "markdown",
      "source": [
        "4. Do pre-processing as per requirements of ML technique II "
      ],
      "metadata": {
        "id": "yVgOTwDIXPeY"
      }
    },
    {
      "cell_type": "code",
      "source": [
        "import pandas as pd\n",
        "from sklearn.tree import DecisionTreeClassifier\n",
        "from sklearn.model_selection import train_test_split\n",
        "from sklearn.metrics import accuracy_score\n",
        "from sklearn.preprocessing import StandardScaler\n",
        "\n",
        "data = pd.read_csv(\"/content/My_Drive/MyDrive/Classroom/dataR2.csv\")\n",
        "\n",
        "X = data.drop(columns=[\"Age\"])\n",
        "y = data[\"Age\"]\n",
        "\n",
        "X.fillna(X.mean(), inplace=True)\n",
        "\n",
        "scaler = StandardScaler()\n",
        "X_scaled = scaler.fit_transform(X)\n",
        "\n",
        "X_train, X_val, y_train, y_val = train_test_split(X_scaled, y, test_size=0.2, random_state=42)\n",
        "\n",
        "clf = DecisionTreeClassifier(random_state=42)\n",
        "clf.fit(X_train, y_train)\n",
        "\n",
        "\n",
        "y_pred = clf.predict(X_val)\n",
        "\n",
        "accuracy = accuracy_score(y_val, y_pred)\n",
        "print(\"Accuracy:\", accuracy)\n"
      ],
      "metadata": {
        "colab": {
          "base_uri": "https://localhost:8080/"
        },
        "id": "GCxYkNOQWLup",
        "outputId": "0fc51b42-eec1-4ba9-8293-c0d153d537ad"
      },
      "execution_count": 8,
      "outputs": [
        {
          "output_type": "stream",
          "name": "stdout",
          "text": [
            "Accuracy: 0.0\n"
          ]
        }
      ]
    },
    {
      "cell_type": "markdown",
      "source": [
        "5. Divide Data set in to training and validation sets"
      ],
      "metadata": {
        "id": "gFDF_3XAYdaH"
      }
    },
    {
      "cell_type": "code",
      "source": [
        "from sklearn.model_selection import train_test_split\n",
        "import pandas as pd\n",
        "\n",
        "\n",
        "data = pd.read_csv(\"/content/My_Drive/MyDrive/Classroom/dataR2.csv\")\n",
        "\n",
        "\n",
        "X = data.drop(columns=[\"Age\"])\n",
        "y = data[\"BMI\"]\n",
        "\n",
        "\n",
        "X_train, X_val, y_train, y_val = train_test_split(X, y, test_size=0.2, random_state=42)\n",
        "\n",
        "\n",
        "print(\"Training set shape:\", X_train.shape, y_train.shape)\n",
        "print(\"Validation set shape:\", X_val.shape, y_val.shape)\n"
      ],
      "metadata": {
        "colab": {
          "base_uri": "https://localhost:8080/"
        },
        "id": "fisQNkszYf23",
        "outputId": "e507680a-5360-4458-a919-eee309ab2da7"
      },
      "execution_count": 10,
      "outputs": [
        {
          "output_type": "stream",
          "name": "stdout",
          "text": [
            "Training set shape: (92, 9) (92,)\n",
            "Validation set shape: (24, 9) (24,)\n"
          ]
        }
      ]
    },
    {
      "cell_type": "code",
      "source": [
        "import pandas as pd\n",
        "from sklearn.model_selection import train_test_split\n",
        "from sklearn.tree import DecisionTreeClassifier\n",
        "\n",
        "\n",
        "data = pd.read_csv(\"/content/My_Drive/MyDrive/Classroom/dataR2.csv\")\n",
        "\n",
        "\n",
        "data['Age'] = pd.Categorical(data['Age'])\n",
        "\n",
        "\n",
        "X = data.drop(columns=[\"Age\"])\n",
        "y = data[\"Age\"]\n",
        "\n",
        "X_train, X_val, y_train, y_val = train_test_split(X, y, test_size=0.2, random_state=42)\n",
        "\n",
        "clf = DecisionTreeClassifier(random_state=42)\n",
        "\n",
        "clf.fit(X_train, y_train)\n",
        "\n",
        "\n",
        "train_accuracy = clf.score(X_train, y_train)\n",
        "print(\"Training accuracy:\", train_accuracy)\n"
      ],
      "metadata": {
        "colab": {
          "base_uri": "https://localhost:8080/"
        },
        "id": "9HF9IKQiZPvG",
        "outputId": "8cef397f-10bf-4ebb-be82-c0bae674cd17"
      },
      "execution_count": 16,
      "outputs": [
        {
          "output_type": "stream",
          "name": "stdout",
          "text": [
            "Training accuracy: 1.0\n"
          ]
        }
      ]
    },
    {
      "cell_type": "markdown",
      "source": [
        "7. Perform Validation"
      ],
      "metadata": {
        "id": "_Z4uO_B7aeNe"
      }
    },
    {
      "cell_type": "code",
      "source": [
        "import pandas as pd\n",
        "from sklearn.model_selection import train_test_split\n",
        "from sklearn.tree import DecisionTreeClassifier\n",
        "\n",
        "data = pd.read_csv(\"/content/My_Drive/MyDrive/Classroom/dataR2.csv\")\n",
        "\n",
        "\n",
        "data['BMI'] = pd.Categorical(data['Age'])\n",
        "\n",
        "\n",
        "X = data.drop(columns=[\"Age\"])\n",
        "y = data[\"BMI\"]\n",
        "\n",
        "\n",
        "X_train, X_val, y_train, y_val = train_test_split(X, y, test_size=0.2, random_state=42)\n",
        "\n",
        "\n",
        "clf = DecisionTreeClassifier(random_state=42)\n",
        "\n",
        "clf.fit(X_train, y_train)\n",
        "\n",
        "y_pred = clf.predict(X_val)\n",
        "\n",
        "\n",
        "val_accuracy = clf.score(X_val, y_val)\n",
        "print(\"Validation accuracy:\", val_accuracy)\n"
      ],
      "metadata": {
        "colab": {
          "base_uri": "https://localhost:8080/"
        },
        "id": "2wAuXvI1ah4N",
        "outputId": "913b79f0-251a-4190-ec6a-a4b1edb6d1f3"
      },
      "execution_count": 19,
      "outputs": [
        {
          "output_type": "stream",
          "name": "stdout",
          "text": [
            "Validation accuracy: 0.375\n"
          ]
        }
      ]
    },
    {
      "cell_type": "markdown",
      "source": [
        "8. Report Accuracy of your trained ML Model"
      ],
      "metadata": {
        "id": "L8gGr_ecbKdp"
      }
    },
    {
      "cell_type": "code",
      "source": [
        "print(\"Training accuracy:\", clf.score(X_train, y_train))\n",
        "print(\"Validation accuracy:\", clf.score(X_val, y_val))\n"
      ],
      "metadata": {
        "colab": {
          "base_uri": "https://localhost:8080/"
        },
        "id": "S5_2p5uObIWk",
        "outputId": "9e808874-7561-431b-bbf6-7669bcdd0b12"
      },
      "execution_count": 20,
      "outputs": [
        {
          "output_type": "stream",
          "name": "stdout",
          "text": [
            "Training accuracy: 1.0\n",
            "Validation accuracy: 0.375\n"
          ]
        }
      ]
    }
  ]
}